{
 "cells": [
  {
   "cell_type": "markdown",
   "id": "39f58eff",
   "metadata": {},
   "source": [
    "# CMSC 197 Lec1.1 Quiz 1\n",
    "\n",
    "Joseph Victor Sumbong"
   ]
  },
  {
   "cell_type": "markdown",
   "id": "f3619499",
   "metadata": {},
   "source": [
    "Import matplotlib and numpy"
   ]
  },
  {
   "cell_type": "code",
   "execution_count": 1,
   "id": "338f9e38",
   "metadata": {
    "scrolled": true
   },
   "outputs": [
    {
     "name": "stdout",
     "output_type": "stream",
     "text": [
      "%pylab is deprecated, use %matplotlib inline and import the required libraries.\n",
      "Populating the interactive namespace from numpy and matplotlib\n"
     ]
    }
   ],
   "source": [
    "%pylab inline"
   ]
  },
  {
   "cell_type": "markdown",
   "id": "c52d36aa",
   "metadata": {},
   "source": [
    "###   Create 2 2D arrays, y_hat and y \n",
    "<ul>   y_hat --- !𝑦! </ul>\n",
    "<ul>   y --- (𝑦! ) </ul>\n",
    "\n",
    "### Initialize y_hat with 20 linearly spaced numbers between -1 and 1 \n",
    "### Initialize y with 20 linearly spaced numbers between 0 and 1 "
   ]
  },
  {
   "cell_type": "code",
   "execution_count": 2,
   "id": "1799dd13",
   "metadata": {},
   "outputs": [
    {
     "name": "stdout",
     "output_type": "stream",
     "text": [
      "y_hat\n",
      " [-1.         -0.89473684 -0.78947368 -0.68421053 -0.57894737 -0.47368421\n",
      " -0.36842105 -0.26315789 -0.15789474 -0.05263158  0.05263158  0.15789474\n",
      "  0.26315789  0.36842105  0.47368421  0.57894737  0.68421053  0.78947368\n",
      "  0.89473684  1.        ]\n",
      "y\n",
      " [0.         0.05263158 0.10526316 0.15789474 0.21052632 0.26315789\n",
      " 0.31578947 0.36842105 0.42105263 0.47368421 0.52631579 0.57894737\n",
      " 0.63157895 0.68421053 0.73684211 0.78947368 0.84210526 0.89473684\n",
      " 0.94736842 1.        ]\n"
     ]
    }
   ],
   "source": [
    "#Using np.linspace() to have linearly spaced numbers\n",
    "y_hat = np.linspace(-1, 1, num=20)\n",
    "y = np.linspace(0, 1, num=20)\n",
    "\n",
    "#Show the arrays\n",
    "print(\"y_hat\\n\", y_hat)\n",
    "print(\"y\\n\", y)"
   ]
  },
  {
   "cell_type": "markdown",
   "id": "20a9fa8c",
   "metadata": {},
   "source": [
    "### Compute for the shape and dimension of y_hat and y."
   ]
  },
  {
   "cell_type": "code",
   "execution_count": 3,
   "id": "2e628832",
   "metadata": {},
   "outputs": [
    {
     "name": "stdout",
     "output_type": "stream",
     "text": [
      "Shape of y_hat and y\n",
      "y_hat: (20,) \n",
      "y    : (20,)\n",
      "\n",
      "Dimension of y_hat and y\n",
      "y_hat: 1 \n",
      "y    : 1\n"
     ]
    }
   ],
   "source": [
    "#Showing shapes of each array using .shape\n",
    "print(\"Shape of y_hat and y\")\n",
    "print(\"y_hat:\", y_hat.shape, \"\\ny    :\", y.shape)\n",
    "\n",
    "#Showing dimension of y_hat and y using .ndim\n",
    "print(\"\\nDimension of y_hat and y\")\n",
    "print(\"y_hat:\", y_hat.ndim, \"\\ny    :\", y.ndim)"
   ]
  },
  {
   "cell_type": "markdown",
   "id": "74b4c445",
   "metadata": {},
   "source": [
    "### Create individual functions for each of the loss functions with y and y_hat as parameters"
   ]
  },
  {
   "cell_type": "markdown",
   "id": "7a769963",
   "metadata": {},
   "source": [
    "### Mean Squared Error Function"
   ]
  },
  {
   "cell_type": "code",
   "execution_count": 4,
   "id": "469730cb",
   "metadata": {},
   "outputs": [],
   "source": [
    "#function for Mean Squared Error\n",
    "#Parameters:\n",
    "#   y_h_vals -> y_hat values\n",
    "#   y_vals -> y values\n",
    "#Return L -> Loss value\n",
    "#Internal Variables:\n",
    "#     sq_sum = summation of the squares of the difference of y_hat and y\n",
    "\n",
    "def MSE(y_h_vals, y_vals):\n",
    "    sq_sum = np.sum((y_h_vals - y_vals) ** 2)\n",
    "    L = sq_sum / y_vals.size\n",
    "    return L"
   ]
  },
  {
   "cell_type": "markdown",
   "id": "ab5da3bb",
   "metadata": {},
   "source": [
    "### Mean Absolute Error Function"
   ]
  },
  {
   "cell_type": "code",
   "execution_count": 5,
   "id": "14ad3805",
   "metadata": {},
   "outputs": [],
   "source": [
    "#function for Mean Absolute Error\n",
    "#Parameters:\n",
    "#   y_h_vals -> y_hat values\n",
    "#   y_vals -> y values\n",
    "#Return L -> Loss value\n",
    "#Internal Variables:\n",
    "#     ab_sum = summation of the absolute values of the result of y_hat - y\n",
    "\n",
    "def MAE(y_h_vals, y_vals):\n",
    "    ab_sum = np.sum(np.abs((y_h_vals - y_vals)))\n",
    "    L = ab_sum / y_vals.size\n",
    "    return L\n"
   ]
  },
  {
   "cell_type": "markdown",
   "id": "73097a53",
   "metadata": {},
   "source": [
    "### Mean Squared Logarithmic Error Function"
   ]
  },
  {
   "cell_type": "code",
   "execution_count": 6,
   "id": "a92a826d",
   "metadata": {},
   "outputs": [],
   "source": [
    "#function for Mean Squared Logarithmic Error\n",
    "#Parameters:\n",
    "#   y_h_vals -> y_hat values\n",
    "#   y_vals -> y values\n",
    "#Return L -> Loss value\n",
    "#Internal variables:\n",
    "#    a -> result of log of y_h_vals + 1\n",
    "#    b -> result of log of y_vals + 1\n",
    "#    log_sum = Summation of the difference of the log results raised by 2\n",
    "\n",
    "def MSLE(y_h_vals, y_vals):\n",
    "    a = np.log(y_h_vals + 1)\n",
    "    b = np.log(y_vals + 1)\n",
    "    log_sum = np.sum((a-b) ** 2)\n",
    "    L = log_sum / y_vals.size\n",
    "    return L"
   ]
  },
  {
   "cell_type": "markdown",
   "id": "c89c2255",
   "metadata": {},
   "source": [
    "### Mean Absolute Percentage Error Function"
   ]
  },
  {
   "cell_type": "code",
   "execution_count": 7,
   "id": "3ed83922",
   "metadata": {},
   "outputs": [],
   "source": [
    "#function for Mean Absolute Percentage Error\n",
    "#Parameters:\n",
    "#   y_h_vals -> y_hat values\n",
    "#   y_vals -> y values\n",
    "#Return L -> Loss value\n",
    "#Internal Variables:\n",
    "#     ab_sum = summation of the absolute value of the result of (y_hat - y)/y\n",
    "\n",
    "def MAPE(y_h_vals, y_vals):\n",
    "    ab_sum = np.sum(np.abs((y_h_vals - y_vals)/y_vals))\n",
    "    L = (ab_sum / y_vals.size) * 100\n",
    "    return str(L)+\"%\"\n",
    "    "
   ]
  },
  {
   "cell_type": "markdown",
   "id": "33da3fb3",
   "metadata": {},
   "source": [
    "### Each function should return the loss value (L)"
   ]
  },
  {
   "cell_type": "code",
   "execution_count": 8,
   "id": "e5273e38",
   "metadata": {},
   "outputs": [
    {
     "name": "stdout",
     "output_type": "stream",
     "text": [
      "Loss Value of y_hat and y\n",
      "Mean Squared Error:  0.3421052631578948\n",
      "Mean Absolute Error:  0.4999999999999999\n",
      "Mean Squared Logarithmic Error:  inf\n",
      "Mean Absolute Percentage Error:  inf%\n"
     ]
    },
    {
     "name": "stderr",
     "output_type": "stream",
     "text": [
      "C:\\Users\\Victor\\AppData\\Local\\Temp\\ipykernel_14428\\18922168.py:12: RuntimeWarning: divide by zero encountered in log\n",
      "  a = np.log(y_h_vals + 1)\n",
      "C:\\Users\\Victor\\AppData\\Local\\Temp\\ipykernel_14428\\2052959076.py:10: RuntimeWarning: divide by zero encountered in true_divide\n",
      "  ab_sum = np.sum(np.abs((y_h_vals - y_vals)/y_vals))\n"
     ]
    }
   ],
   "source": [
    "#Showing that each function returns a value\n",
    "print(\"Loss Value of y_hat and y\")\n",
    "print(\"Mean Squared Error: \", MSE(y_hat, y))\n",
    "print(\"Mean Absolute Error: \", MAE(y_hat, y))\n",
    "print(\"Mean Squared Logarithmic Error: \", MSLE(y_hat, y))\n",
    "print(\"Mean Absolute Percentage Error: \", MAPE(y_hat, y))"
   ]
  },
  {
   "cell_type": "markdown",
   "id": "55224fb7",
   "metadata": {},
   "source": [
    "<p>As can be from the results above, Mean Squared Error and Mean Absolute Error shows a numerical result from our y_hat and y values. However, Mean Squared Logarithmic Error results into inf or infinity. This is because MSLE required that the values of y_hat and y are non-negative numbers and with our y_hat having negative numbers it therefore cannot calculate a numerical result and will return an inf value. In the case of MAPE, our y array contains a 0 which can not be a denominator and because our formula has y as a denominator, it therefore will not compute and return an inf. </p>"
   ]
  },
  {
   "cell_type": "markdown",
   "id": "8cc98aa6",
   "metadata": {},
   "source": [
    "## Part 2"
   ]
  },
  {
   "cell_type": "markdown",
   "id": "41a3810a",
   "metadata": {},
   "source": [
    "<ol>1. Create a 1d array M {1, 2, ...16} using the arange function</ol>"
   ]
  },
  {
   "cell_type": "code",
   "execution_count": 9,
   "id": "3517964f",
   "metadata": {},
   "outputs": [
    {
     "data": {
      "text/plain": [
       "array([ 1,  2,  3,  4,  5,  6,  7,  8,  9, 10, 11, 12, 13, 14, 15, 16])"
      ]
     },
     "execution_count": 9,
     "metadata": {},
     "output_type": "execute_result"
    }
   ],
   "source": [
    "M = np.arange(1, 17) #Passing argument (1, 17) so that it starts with 1 and ends with 16\n",
    "M"
   ]
  },
  {
   "cell_type": "markdown",
   "id": "2d5d5b54",
   "metadata": {},
   "source": [
    "<ol>2. Reshape M into 4x4 array and store it to N</ol>"
   ]
  },
  {
   "cell_type": "code",
   "execution_count": 10,
   "id": "c5c8f49d",
   "metadata": {},
   "outputs": [
    {
     "data": {
      "text/plain": [
       "array([[ 1,  2,  3,  4],\n",
       "       [ 5,  6,  7,  8],\n",
       "       [ 9, 10, 11, 12],\n",
       "       [13, 14, 15, 16]])"
      ]
     },
     "execution_count": 10,
     "metadata": {},
     "output_type": "execute_result"
    }
   ],
   "source": [
    "N = M.reshape(4,4)\n",
    "N"
   ]
  },
  {
   "cell_type": "markdown",
   "id": "fb95035b",
   "metadata": {},
   "source": [
    "<ol>3. Get the 2 nd row of N</ol>"
   ]
  },
  {
   "cell_type": "code",
   "execution_count": 11,
   "id": "78b3ce71",
   "metadata": {},
   "outputs": [
    {
     "data": {
      "text/plain": [
       "array([5, 6, 7, 8])"
      ]
     },
     "execution_count": 11,
     "metadata": {},
     "output_type": "execute_result"
    }
   ],
   "source": [
    "N[1, 0:] #slicing 2nd row under all the columns"
   ]
  },
  {
   "cell_type": "markdown",
   "id": "0c784f5a",
   "metadata": {},
   "source": [
    "<ol>4. Get the minimum values for each column of N</ol>"
   ]
  },
  {
   "cell_type": "code",
   "execution_count": 12,
   "id": "92d07697",
   "metadata": {},
   "outputs": [
    {
     "data": {
      "text/plain": [
       "array([1, 2, 3, 4])"
      ]
     },
     "execution_count": 12,
     "metadata": {},
     "output_type": "execute_result"
    }
   ],
   "source": [
    "np.min(N, axis = 0) #add argument axis = 0 so that it finds the min by column"
   ]
  },
  {
   "cell_type": "markdown",
   "id": "5d723dd3",
   "metadata": {},
   "source": [
    "<ol>5. Get the locations of the minimum values for each column of N</ol>"
   ]
  },
  {
   "cell_type": "code",
   "execution_count": 13,
   "id": "a3dead75",
   "metadata": {},
   "outputs": [
    {
     "data": {
      "text/plain": [
       "array([0, 0, 0, 0], dtype=int64)"
      ]
     },
     "execution_count": 13,
     "metadata": {},
     "output_type": "execute_result"
    }
   ],
   "source": [
    "N.argmin(axis=0) #add argument axis = 0 so that it finds the location by column"
   ]
  },
  {
   "cell_type": "markdown",
   "id": "d530003b",
   "metadata": {},
   "source": [
    "<ol>6. Get the average of the whole matrix</ol>"
   ]
  },
  {
   "cell_type": "code",
   "execution_count": 14,
   "id": "a9f7a066",
   "metadata": {},
   "outputs": [
    {
     "data": {
      "text/plain": [
       "8.5"
      ]
     },
     "execution_count": 14,
     "metadata": {},
     "output_type": "execute_result"
    }
   ],
   "source": [
    "np.mean(N)"
   ]
  },
  {
   "cell_type": "markdown",
   "id": "c9fa0ef1",
   "metadata": {},
   "source": [
    "<ol>7. Create a vector V with 4 elements, each element is 1</ol>"
   ]
  },
  {
   "cell_type": "code",
   "execution_count": 15,
   "id": "bf53e946",
   "metadata": {},
   "outputs": [
    {
     "data": {
      "text/plain": [
       "array([1, 1, 1, 1])"
      ]
     },
     "execution_count": 15,
     "metadata": {},
     "output_type": "execute_result"
    }
   ],
   "source": [
    "V = np.ones((4), dtype='int32') #adding dtype='int32' for better formatting\n",
    "V"
   ]
  },
  {
   "cell_type": "markdown",
   "id": "7b3a3ac7",
   "metadata": {},
   "source": [
    "<ol>8. Take the dot product of N and V</ol>"
   ]
  },
  {
   "cell_type": "code",
   "execution_count": 16,
   "id": "9b3446c9",
   "metadata": {},
   "outputs": [
    {
     "data": {
      "text/plain": [
       "array([10, 26, 42, 58])"
      ]
     },
     "execution_count": 16,
     "metadata": {},
     "output_type": "execute_result"
    }
   ],
   "source": [
    "np.dot(N, V)"
   ]
  },
  {
   "cell_type": "code",
   "execution_count": null,
   "id": "45d215f3",
   "metadata": {},
   "outputs": [],
   "source": []
  }
 ],
 "metadata": {
  "kernelspec": {
   "display_name": "Python 3 (ipykernel)",
   "language": "python",
   "name": "python3"
  },
  "language_info": {
   "codemirror_mode": {
    "name": "ipython",
    "version": 3
   },
   "file_extension": ".py",
   "mimetype": "text/x-python",
   "name": "python",
   "nbconvert_exporter": "python",
   "pygments_lexer": "ipython3",
   "version": "3.9.12"
  }
 },
 "nbformat": 4,
 "nbformat_minor": 5
}
