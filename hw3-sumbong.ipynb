{
 "cells": [
  {
   "cell_type": "code",
   "execution_count": 1,
   "id": "e989cafa",
   "metadata": {},
   "outputs": [],
   "source": [
    " ##### Standard Libraries #####\n",
    "import numpy as np\n",
    "import pandas as pd\n",
    "import matplotlib.pyplot as plt\n",
    "import seaborn as sns\n",
    "sns.set_style(\"whitegrid\")\n",
    "sns.set_context(\"poster\")\n",
    "\n",
    "%matplotlib inline\n",
    "\n",
    "##### For Preprocessing #####\n",
    "from sklearn.model_selection import train_test_split\n",
    "from sklearn.preprocessing import PolynomialFeatures\n",
    "\n",
    "##### For Building the Model #####\n",
    "from sklearn.linear_model import LinearRegression, Lasso, Ridge\n",
    "from sklearn.pipeline import make_pipeline\n",
    "\n",
    "##### For Validation of the Model #####\n",
    "from sklearn.metrics import r2_score, mean_absolute_error, mean_squared_error\n",
    "from sklearn.model_selection import cross_val_score"
   ]
  },
  {
   "cell_type": "code",
   "execution_count": 2,
   "id": "28317360",
   "metadata": {},
   "outputs": [
    {
     "data": {
      "text/html": [
       "<div>\n",
       "<style scoped>\n",
       "    .dataframe tbody tr th:only-of-type {\n",
       "        vertical-align: middle;\n",
       "    }\n",
       "\n",
       "    .dataframe tbody tr th {\n",
       "        vertical-align: top;\n",
       "    }\n",
       "\n",
       "    .dataframe thead th {\n",
       "        text-align: right;\n",
       "    }\n",
       "</style>\n",
       "<table border=\"1\" class=\"dataframe\">\n",
       "  <thead>\n",
       "    <tr style=\"text-align: right;\">\n",
       "      <th></th>\n",
       "      <th>TV</th>\n",
       "      <th>Radio</th>\n",
       "      <th>Newspaper</th>\n",
       "      <th>Sales</th>\n",
       "    </tr>\n",
       "  </thead>\n",
       "  <tbody>\n",
       "    <tr>\n",
       "      <th>1</th>\n",
       "      <td>230.1</td>\n",
       "      <td>37.8</td>\n",
       "      <td>69.2</td>\n",
       "      <td>22.1</td>\n",
       "    </tr>\n",
       "    <tr>\n",
       "      <th>2</th>\n",
       "      <td>44.5</td>\n",
       "      <td>39.3</td>\n",
       "      <td>45.1</td>\n",
       "      <td>10.4</td>\n",
       "    </tr>\n",
       "    <tr>\n",
       "      <th>3</th>\n",
       "      <td>17.2</td>\n",
       "      <td>45.9</td>\n",
       "      <td>69.3</td>\n",
       "      <td>9.3</td>\n",
       "    </tr>\n",
       "    <tr>\n",
       "      <th>4</th>\n",
       "      <td>151.5</td>\n",
       "      <td>41.3</td>\n",
       "      <td>58.5</td>\n",
       "      <td>18.5</td>\n",
       "    </tr>\n",
       "    <tr>\n",
       "      <th>5</th>\n",
       "      <td>180.8</td>\n",
       "      <td>10.8</td>\n",
       "      <td>58.4</td>\n",
       "      <td>12.9</td>\n",
       "    </tr>\n",
       "    <tr>\n",
       "      <th>...</th>\n",
       "      <td>...</td>\n",
       "      <td>...</td>\n",
       "      <td>...</td>\n",
       "      <td>...</td>\n",
       "    </tr>\n",
       "    <tr>\n",
       "      <th>196</th>\n",
       "      <td>38.2</td>\n",
       "      <td>3.7</td>\n",
       "      <td>13.8</td>\n",
       "      <td>7.6</td>\n",
       "    </tr>\n",
       "    <tr>\n",
       "      <th>197</th>\n",
       "      <td>94.2</td>\n",
       "      <td>4.9</td>\n",
       "      <td>8.1</td>\n",
       "      <td>9.7</td>\n",
       "    </tr>\n",
       "    <tr>\n",
       "      <th>198</th>\n",
       "      <td>177.0</td>\n",
       "      <td>9.3</td>\n",
       "      <td>6.4</td>\n",
       "      <td>12.8</td>\n",
       "    </tr>\n",
       "    <tr>\n",
       "      <th>199</th>\n",
       "      <td>283.6</td>\n",
       "      <td>42.0</td>\n",
       "      <td>66.2</td>\n",
       "      <td>25.5</td>\n",
       "    </tr>\n",
       "    <tr>\n",
       "      <th>200</th>\n",
       "      <td>232.1</td>\n",
       "      <td>8.6</td>\n",
       "      <td>8.7</td>\n",
       "      <td>13.4</td>\n",
       "    </tr>\n",
       "  </tbody>\n",
       "</table>\n",
       "<p>200 rows × 4 columns</p>\n",
       "</div>"
      ],
      "text/plain": [
       "        TV  Radio  Newspaper  Sales\n",
       "1    230.1   37.8       69.2   22.1\n",
       "2     44.5   39.3       45.1   10.4\n",
       "3     17.2   45.9       69.3    9.3\n",
       "4    151.5   41.3       58.5   18.5\n",
       "5    180.8   10.8       58.4   12.9\n",
       "..     ...    ...        ...    ...\n",
       "196   38.2    3.7       13.8    7.6\n",
       "197   94.2    4.9        8.1    9.7\n",
       "198  177.0    9.3        6.4   12.8\n",
       "199  283.6   42.0       66.2   25.5\n",
       "200  232.1    8.6        8.7   13.4\n",
       "\n",
       "[200 rows x 4 columns]"
      ]
     },
     "execution_count": 2,
     "metadata": {},
     "output_type": "execute_result"
    }
   ],
   "source": [
    "### Load the data\n",
    "df = pd.read_csv(\"Advertising.csv\", index_col = 0)\n",
    "df"
   ]
  },
  {
   "cell_type": "markdown",
   "id": "530d3b0f",
   "metadata": {},
   "source": [
    "### Standardize each column of dataset"
   ]
  },
  {
   "cell_type": "code",
   "execution_count": 3,
   "id": "1b51c32a",
   "metadata": {
    "scrolled": true
   },
   "outputs": [
    {
     "name": "stdout",
     "output_type": "stream",
     "text": [
      "TV           147.0425\n",
      "Radio         23.2640\n",
      "Newspaper     30.5540\n",
      "Sales         14.0225\n",
      "dtype: float64 TV           85.854236\n",
      "Radio        14.846809\n",
      "Newspaper    21.778621\n",
      "Sales         5.217457\n",
      "dtype: float64\n"
     ]
    },
    {
     "data": {
      "text/html": [
       "<div>\n",
       "<style scoped>\n",
       "    .dataframe tbody tr th:only-of-type {\n",
       "        vertical-align: middle;\n",
       "    }\n",
       "\n",
       "    .dataframe tbody tr th {\n",
       "        vertical-align: top;\n",
       "    }\n",
       "\n",
       "    .dataframe thead th {\n",
       "        text-align: right;\n",
       "    }\n",
       "</style>\n",
       "<table border=\"1\" class=\"dataframe\">\n",
       "  <thead>\n",
       "    <tr style=\"text-align: right;\">\n",
       "      <th></th>\n",
       "      <th>TV</th>\n",
       "      <th>Radio</th>\n",
       "      <th>Newspaper</th>\n",
       "      <th>Sales</th>\n",
       "    </tr>\n",
       "  </thead>\n",
       "  <tbody>\n",
       "    <tr>\n",
       "      <th>1</th>\n",
       "      <td>0.967425</td>\n",
       "      <td>0.979066</td>\n",
       "      <td>1.774493</td>\n",
       "      <td>1.548168</td>\n",
       "    </tr>\n",
       "    <tr>\n",
       "      <th>2</th>\n",
       "      <td>-1.194379</td>\n",
       "      <td>1.080097</td>\n",
       "      <td>0.667903</td>\n",
       "      <td>-0.694304</td>\n",
       "    </tr>\n",
       "    <tr>\n",
       "      <th>3</th>\n",
       "      <td>-1.512360</td>\n",
       "      <td>1.524637</td>\n",
       "      <td>1.779084</td>\n",
       "      <td>-0.905135</td>\n",
       "    </tr>\n",
       "    <tr>\n",
       "      <th>4</th>\n",
       "      <td>0.051919</td>\n",
       "      <td>1.214806</td>\n",
       "      <td>1.283185</td>\n",
       "      <td>0.858177</td>\n",
       "    </tr>\n",
       "    <tr>\n",
       "      <th>5</th>\n",
       "      <td>0.393196</td>\n",
       "      <td>-0.839507</td>\n",
       "      <td>1.278593</td>\n",
       "      <td>-0.215143</td>\n",
       "    </tr>\n",
       "    <tr>\n",
       "      <th>...</th>\n",
       "      <td>...</td>\n",
       "      <td>...</td>\n",
       "      <td>...</td>\n",
       "      <td>...</td>\n",
       "    </tr>\n",
       "    <tr>\n",
       "      <th>196</th>\n",
       "      <td>-1.267759</td>\n",
       "      <td>-1.317724</td>\n",
       "      <td>-0.769287</td>\n",
       "      <td>-1.230964</td>\n",
       "    </tr>\n",
       "    <tr>\n",
       "      <th>197</th>\n",
       "      <td>-0.615491</td>\n",
       "      <td>-1.236899</td>\n",
       "      <td>-1.031011</td>\n",
       "      <td>-0.828469</td>\n",
       "    </tr>\n",
       "    <tr>\n",
       "      <th>198</th>\n",
       "      <td>0.348934</td>\n",
       "      <td>-0.940539</td>\n",
       "      <td>-1.109069</td>\n",
       "      <td>-0.234310</td>\n",
       "    </tr>\n",
       "    <tr>\n",
       "      <th>199</th>\n",
       "      <td>1.590574</td>\n",
       "      <td>1.261955</td>\n",
       "      <td>1.636743</td>\n",
       "      <td>2.199827</td>\n",
       "    </tr>\n",
       "    <tr>\n",
       "      <th>200</th>\n",
       "      <td>0.990720</td>\n",
       "      <td>-0.987687</td>\n",
       "      <td>-1.003461</td>\n",
       "      <td>-0.119311</td>\n",
       "    </tr>\n",
       "  </tbody>\n",
       "</table>\n",
       "<p>200 rows × 4 columns</p>\n",
       "</div>"
      ],
      "text/plain": [
       "           TV     Radio  Newspaper     Sales\n",
       "1    0.967425  0.979066   1.774493  1.548168\n",
       "2   -1.194379  1.080097   0.667903 -0.694304\n",
       "3   -1.512360  1.524637   1.779084 -0.905135\n",
       "4    0.051919  1.214806   1.283185  0.858177\n",
       "5    0.393196 -0.839507   1.278593 -0.215143\n",
       "..        ...       ...        ...       ...\n",
       "196 -1.267759 -1.317724  -0.769287 -1.230964\n",
       "197 -0.615491 -1.236899  -1.031011 -0.828469\n",
       "198  0.348934 -0.940539  -1.109069 -0.234310\n",
       "199  1.590574  1.261955   1.636743  2.199827\n",
       "200  0.990720 -0.987687  -1.003461 -0.119311\n",
       "\n",
       "[200 rows x 4 columns]"
      ]
     },
     "execution_count": 3,
     "metadata": {},
     "output_type": "execute_result"
    }
   ],
   "source": [
    "data_copy = df[df.columns]\n",
    "mean_x, std_x = data_copy.mean(), data_copy.std()\n",
    "print(mean_x, std_x)\n",
    "df[df.columns] = (data_copy - mean_x) / std_x\n",
    "###save a copy of the standardized for later\n",
    "stand_df = df\n",
    "df"
   ]
  },
  {
   "cell_type": "markdown",
   "id": "1ae9545b",
   "metadata": {},
   "source": [
    "### Add extra columns"
   ]
  },
  {
   "cell_type": "code",
   "execution_count": 4,
   "id": "45a0a8d4",
   "metadata": {},
   "outputs": [
    {
     "data": {
      "text/html": [
       "<div>\n",
       "<style scoped>\n",
       "    .dataframe tbody tr th:only-of-type {\n",
       "        vertical-align: middle;\n",
       "    }\n",
       "\n",
       "    .dataframe tbody tr th {\n",
       "        vertical-align: top;\n",
       "    }\n",
       "\n",
       "    .dataframe thead th {\n",
       "        text-align: right;\n",
       "    }\n",
       "</style>\n",
       "<table border=\"1\" class=\"dataframe\">\n",
       "  <thead>\n",
       "    <tr style=\"text-align: right;\">\n",
       "      <th></th>\n",
       "      <th>Bias</th>\n",
       "      <th>TV</th>\n",
       "      <th>Radio</th>\n",
       "      <th>Newspaper</th>\n",
       "      <th>Sales</th>\n",
       "    </tr>\n",
       "  </thead>\n",
       "  <tbody>\n",
       "    <tr>\n",
       "      <th>1</th>\n",
       "      <td>1</td>\n",
       "      <td>0.967425</td>\n",
       "      <td>0.979066</td>\n",
       "      <td>1.774493</td>\n",
       "      <td>1.548168</td>\n",
       "    </tr>\n",
       "    <tr>\n",
       "      <th>2</th>\n",
       "      <td>1</td>\n",
       "      <td>-1.194379</td>\n",
       "      <td>1.080097</td>\n",
       "      <td>0.667903</td>\n",
       "      <td>-0.694304</td>\n",
       "    </tr>\n",
       "    <tr>\n",
       "      <th>3</th>\n",
       "      <td>1</td>\n",
       "      <td>-1.512360</td>\n",
       "      <td>1.524637</td>\n",
       "      <td>1.779084</td>\n",
       "      <td>-0.905135</td>\n",
       "    </tr>\n",
       "    <tr>\n",
       "      <th>4</th>\n",
       "      <td>1</td>\n",
       "      <td>0.051919</td>\n",
       "      <td>1.214806</td>\n",
       "      <td>1.283185</td>\n",
       "      <td>0.858177</td>\n",
       "    </tr>\n",
       "    <tr>\n",
       "      <th>5</th>\n",
       "      <td>1</td>\n",
       "      <td>0.393196</td>\n",
       "      <td>-0.839507</td>\n",
       "      <td>1.278593</td>\n",
       "      <td>-0.215143</td>\n",
       "    </tr>\n",
       "    <tr>\n",
       "      <th>...</th>\n",
       "      <td>...</td>\n",
       "      <td>...</td>\n",
       "      <td>...</td>\n",
       "      <td>...</td>\n",
       "      <td>...</td>\n",
       "    </tr>\n",
       "    <tr>\n",
       "      <th>196</th>\n",
       "      <td>1</td>\n",
       "      <td>-1.267759</td>\n",
       "      <td>-1.317724</td>\n",
       "      <td>-0.769287</td>\n",
       "      <td>-1.230964</td>\n",
       "    </tr>\n",
       "    <tr>\n",
       "      <th>197</th>\n",
       "      <td>1</td>\n",
       "      <td>-0.615491</td>\n",
       "      <td>-1.236899</td>\n",
       "      <td>-1.031011</td>\n",
       "      <td>-0.828469</td>\n",
       "    </tr>\n",
       "    <tr>\n",
       "      <th>198</th>\n",
       "      <td>1</td>\n",
       "      <td>0.348934</td>\n",
       "      <td>-0.940539</td>\n",
       "      <td>-1.109069</td>\n",
       "      <td>-0.234310</td>\n",
       "    </tr>\n",
       "    <tr>\n",
       "      <th>199</th>\n",
       "      <td>1</td>\n",
       "      <td>1.590574</td>\n",
       "      <td>1.261955</td>\n",
       "      <td>1.636743</td>\n",
       "      <td>2.199827</td>\n",
       "    </tr>\n",
       "    <tr>\n",
       "      <th>200</th>\n",
       "      <td>1</td>\n",
       "      <td>0.990720</td>\n",
       "      <td>-0.987687</td>\n",
       "      <td>-1.003461</td>\n",
       "      <td>-0.119311</td>\n",
       "    </tr>\n",
       "  </tbody>\n",
       "</table>\n",
       "<p>200 rows × 5 columns</p>\n",
       "</div>"
      ],
      "text/plain": [
       "     Bias        TV     Radio  Newspaper     Sales\n",
       "1       1  0.967425  0.979066   1.774493  1.548168\n",
       "2       1 -1.194379  1.080097   0.667903 -0.694304\n",
       "3       1 -1.512360  1.524637   1.779084 -0.905135\n",
       "4       1  0.051919  1.214806   1.283185  0.858177\n",
       "5       1  0.393196 -0.839507   1.278593 -0.215143\n",
       "..    ...       ...       ...        ...       ...\n",
       "196     1 -1.267759 -1.317724  -0.769287 -1.230964\n",
       "197     1 -0.615491 -1.236899  -1.031011 -0.828469\n",
       "198     1  0.348934 -0.940539  -1.109069 -0.234310\n",
       "199     1  1.590574  1.261955   1.636743  2.199827\n",
       "200     1  0.990720 -0.987687  -1.003461 -0.119311\n",
       "\n",
       "[200 rows x 5 columns]"
      ]
     },
     "execution_count": 4,
     "metadata": {},
     "output_type": "execute_result"
    }
   ],
   "source": [
    "df.insert(0, \"Bias\", 1)\n",
    "df"
   ]
  },
  {
   "cell_type": "markdown",
   "id": "c4c06552",
   "metadata": {},
   "source": [
    "### Divide the data into training and testing set"
   ]
  },
  {
   "cell_type": "code",
   "execution_count": 5,
   "id": "f456b758",
   "metadata": {},
   "outputs": [],
   "source": [
    "x = df[df.columns[:-1]]\n",
    "y = df[\"Sales\"]\n",
    "\n",
    "x_train, x_test, y_train, y_test = train_test_split(x, y, test_size=0.15, random_state = 42)"
   ]
  },
  {
   "cell_type": "code",
   "execution_count": 6,
   "id": "836d8df9",
   "metadata": {},
   "outputs": [
    {
     "name": "stdout",
     "output_type": "stream",
     "text": [
      "x_train size: (170, 4)\n",
      "y_train size: (170,)\n",
      "x_test size: (30, 4)\n",
      "y_test size: (30,)\n"
     ]
    }
   ],
   "source": [
    "print(\"x_train size:\", x_train.shape)\n",
    "print(\"y_train size:\", y_train.shape)\n",
    "print(\"x_test size:\", x_test.shape)\n",
    "print(\"y_test size:\", y_test.shape)"
   ]
  },
  {
   "cell_type": "markdown",
   "id": "dc3dea7b",
   "metadata": {},
   "source": [
    "### Fit the model"
   ]
  },
  {
   "cell_type": "markdown",
   "id": "4591a184",
   "metadata": {},
   "source": [
    "#### Initialize weights"
   ]
  },
  {
   "cell_type": "code",
   "execution_count": 7,
   "id": "b0d02f0c",
   "metadata": {},
   "outputs": [],
   "source": [
    "def initialize_weights():\n",
    "    np.random.seed(42)\n",
    "    return np.random.uniform(0,1,4)"
   ]
  },
  {
   "cell_type": "markdown",
   "id": "e56b6ae0",
   "metadata": {},
   "source": [
    "#### Predict function"
   ]
  },
  {
   "cell_type": "code",
   "execution_count": 8,
   "id": "db4e683a",
   "metadata": {},
   "outputs": [],
   "source": [
    "def predict(x, weights): \n",
    "    return np.dot(x, weights)"
   ]
  },
  {
   "cell_type": "markdown",
   "id": "07dbea60",
   "metadata": {},
   "source": [
    "#### Compute Cost function"
   ]
  },
  {
   "cell_type": "code",
   "execution_count": 9,
   "id": "f542fb44",
   "metadata": {},
   "outputs": [],
   "source": [
    "#y_hat -> vector; the predicted y value\n",
    "#y -> vector; the actual y value\n",
    "def comp_cost(y_hat, y):\n",
    "    summation = np.sum(np.square(y_hat-y))\n",
    "    cost = summation/(2*y.shape[0])\n",
    "    return cost"
   ]
  },
  {
   "cell_type": "markdown",
   "id": "d8ae6f97",
   "metadata": {},
   "source": [
    "#### Compute Gradient function"
   ]
  },
  {
   "cell_type": "code",
   "execution_count": 10,
   "id": "473f0213",
   "metadata": {},
   "outputs": [],
   "source": [
    "#y_hat -> vector; the predicted y value\n",
    "#y -> vector; the actual y value\n",
    "def comp_grad(x, y_hat, y, a):\n",
    "    grad_res = a * np.dot(x.T,y_hat-y) / y.shape[0]\n",
    "    return grad_res"
   ]
  },
  {
   "cell_type": "markdown",
   "id": "8af1bd77",
   "metadata": {},
   "source": [
    "#### Update Weights function"
   ]
  },
  {
   "cell_type": "code",
   "execution_count": 11,
   "id": "a0d49d24",
   "metadata": {},
   "outputs": [],
   "source": [
    "def update_weights(weights, grad):\n",
    "    return weights-grad"
   ]
  },
  {
   "cell_type": "markdown",
   "id": "4e1015c2",
   "metadata": {},
   "source": [
    "#### Gradient Descent function"
   ]
  },
  {
   "cell_type": "code",
   "execution_count": 12,
   "id": "96de642f",
   "metadata": {},
   "outputs": [],
   "source": [
    "def grad_descent(x, y, iteration, weights, a=0.01):\n",
    "    cost_list = []\n",
    "    weights_list = []\n",
    "    for i in range(iteration):\n",
    "        y_hat = predict(x, weights)\n",
    "        costs = comp_cost(y_hat,y)\n",
    "        cost_list.append(costs)\n",
    "        grad = comp_grad(x, y_hat, y, a)\n",
    "        weights = update_weights(weights,grad)\n",
    "        weights_list.append(weights)\n",
    "        \n",
    "    return cost_list, weights_list"
   ]
  },
  {
   "cell_type": "markdown",
   "id": "e66f63b7",
   "metadata": {},
   "source": [
    "#### Plot Cost function"
   ]
  },
  {
   "cell_type": "code",
   "execution_count": 13,
   "id": "8c669932",
   "metadata": {},
   "outputs": [],
   "source": [
    "def plot_func(cost):\n",
    "    plt.title(\"Cost of function\")\n",
    "    plt.xlabel(\"No. of iterations\")\n",
    "    plt.ylabel(\"Cost\")\n",
    "    plt.plot(cost)\n",
    "    plt.show()"
   ]
  },
  {
   "cell_type": "markdown",
   "id": "af6eecc0",
   "metadata": {},
   "source": [
    "### Predict y for train set and calculate the cost"
   ]
  },
  {
   "cell_type": "code",
   "execution_count": 14,
   "id": "ccbce4fd",
   "metadata": {},
   "outputs": [
    {
     "data": {
      "image/png": "[encoded data removed]",
      "text/plain": [
       "<Figure size 432x288 with 1 Axes>"
      ]
     },
     "metadata": {
      "needs_background": "light"
     },
     "output_type": "display_data"
    },
    {
     "name": "stdout",
     "output_type": "stream",
     "text": [
      "0.051079837450750655\n"
     ]
    }
   ],
   "source": [
    "train_weights = initialize_weights()\n",
    "train_costs, act_weights = grad_descent(x_train, y_train, 1000, train_weights)\n",
    "plot_func(train_costs)\n",
    "train_pred_y = predict(x_train, act_weights[-1])\n",
    "cost = comp_cost(train_pred_y, y_train)\n",
    "print(cost)"
   ]
  },
  {
   "cell_type": "markdown",
   "id": "901cec2b",
   "metadata": {},
   "source": [
    "### Predict y for test set and calculate the cost"
   ]
  },
  {
   "cell_type": "code",
   "execution_count": 15,
   "id": "f7be4417",
   "metadata": {},
   "outputs": [
    {
     "data": {
      "text/plain": [
       "0.05244485003952755"
      ]
     },
     "execution_count": 15,
     "metadata": {},
     "output_type": "execute_result"
    }
   ],
   "source": [
    "###using the calculated weights\n",
    "test_pred_y = predict(x_test, act_weights[-1])\n",
    "cost = comp_cost(test_pred_y, y_test)\n",
    "cost"
   ]
  },
  {
   "cell_type": "markdown",
   "id": "9cc307ed",
   "metadata": {},
   "source": [
    "### Revert Standardized data into original form"
   ]
  },
  {
   "cell_type": "code",
   "execution_count": 16,
   "id": "a198154d",
   "metadata": {
    "scrolled": true
   },
   "outputs": [
    {
     "data": {
      "text/html": [
       "<div>\n",
       "<style scoped>\n",
       "    .dataframe tbody tr th:only-of-type {\n",
       "        vertical-align: middle;\n",
       "    }\n",
       "\n",
       "    .dataframe tbody tr th {\n",
       "        vertical-align: top;\n",
       "    }\n",
       "\n",
       "    .dataframe thead th {\n",
       "        text-align: right;\n",
       "    }\n",
       "</style>\n",
       "<table border=\"1\" class=\"dataframe\">\n",
       "  <thead>\n",
       "    <tr style=\"text-align: right;\">\n",
       "      <th></th>\n",
       "      <th>Bias</th>\n",
       "      <th>TV</th>\n",
       "      <th>Radio</th>\n",
       "      <th>Newspaper</th>\n",
       "      <th>Sales</th>\n",
       "    </tr>\n",
       "  </thead>\n",
       "  <tbody>\n",
       "    <tr>\n",
       "      <th>1</th>\n",
       "      <td>1</td>\n",
       "      <td>230.1</td>\n",
       "      <td>37.8</td>\n",
       "      <td>69.2</td>\n",
       "      <td>22.1</td>\n",
       "    </tr>\n",
       "    <tr>\n",
       "      <th>2</th>\n",
       "      <td>1</td>\n",
       "      <td>44.5</td>\n",
       "      <td>39.3</td>\n",
       "      <td>45.1</td>\n",
       "      <td>10.4</td>\n",
       "    </tr>\n",
       "    <tr>\n",
       "      <th>3</th>\n",
       "      <td>1</td>\n",
       "      <td>17.2</td>\n",
       "      <td>45.9</td>\n",
       "      <td>69.3</td>\n",
       "      <td>9.3</td>\n",
       "    </tr>\n",
       "    <tr>\n",
       "      <th>4</th>\n",
       "      <td>1</td>\n",
       "      <td>151.5</td>\n",
       "      <td>41.3</td>\n",
       "      <td>58.5</td>\n",
       "      <td>18.5</td>\n",
       "    </tr>\n",
       "    <tr>\n",
       "      <th>5</th>\n",
       "      <td>1</td>\n",
       "      <td>180.8</td>\n",
       "      <td>10.8</td>\n",
       "      <td>58.4</td>\n",
       "      <td>12.9</td>\n",
       "    </tr>\n",
       "    <tr>\n",
       "      <th>...</th>\n",
       "      <td>...</td>\n",
       "      <td>...</td>\n",
       "      <td>...</td>\n",
       "      <td>...</td>\n",
       "      <td>...</td>\n",
       "    </tr>\n",
       "    <tr>\n",
       "      <th>196</th>\n",
       "      <td>1</td>\n",
       "      <td>38.2</td>\n",
       "      <td>3.7</td>\n",
       "      <td>13.8</td>\n",
       "      <td>7.6</td>\n",
       "    </tr>\n",
       "    <tr>\n",
       "      <th>197</th>\n",
       "      <td>1</td>\n",
       "      <td>94.2</td>\n",
       "      <td>4.9</td>\n",
       "      <td>8.1</td>\n",
       "      <td>9.7</td>\n",
       "    </tr>\n",
       "    <tr>\n",
       "      <th>198</th>\n",
       "      <td>1</td>\n",
       "      <td>177.0</td>\n",
       "      <td>9.3</td>\n",
       "      <td>6.4</td>\n",
       "      <td>12.8</td>\n",
       "    </tr>\n",
       "    <tr>\n",
       "      <th>199</th>\n",
       "      <td>1</td>\n",
       "      <td>283.6</td>\n",
       "      <td>42.0</td>\n",
       "      <td>66.2</td>\n",
       "      <td>25.5</td>\n",
       "    </tr>\n",
       "    <tr>\n",
       "      <th>200</th>\n",
       "      <td>1</td>\n",
       "      <td>232.1</td>\n",
       "      <td>8.6</td>\n",
       "      <td>8.7</td>\n",
       "      <td>13.4</td>\n",
       "    </tr>\n",
       "  </tbody>\n",
       "</table>\n",
       "<p>200 rows × 5 columns</p>\n",
       "</div>"
      ],
      "text/plain": [
       "     Bias     TV  Radio  Newspaper  Sales\n",
       "1       1  230.1   37.8       69.2   22.1\n",
       "2       1   44.5   39.3       45.1   10.4\n",
       "3       1   17.2   45.9       69.3    9.3\n",
       "4       1  151.5   41.3       58.5   18.5\n",
       "5       1  180.8   10.8       58.4   12.9\n",
       "..    ...    ...    ...        ...    ...\n",
       "196     1   38.2    3.7       13.8    7.6\n",
       "197     1   94.2    4.9        8.1    9.7\n",
       "198     1  177.0    9.3        6.4   12.8\n",
       "199     1  283.6   42.0       66.2   25.5\n",
       "200     1  232.1    8.6        8.7   13.4\n",
       "\n",
       "[200 rows x 5 columns]"
      ]
     },
     "execution_count": 16,
     "metadata": {},
     "output_type": "execute_result"
    }
   ],
   "source": [
    "data_copy = df[df.columns[1:]]\n",
    "df[df.columns[1:]] = (data_copy * std_x) + mean_x\n",
    "\n",
    "df"
   ]
  },
  {
   "cell_type": "markdown",
   "id": "3ced22fb",
   "metadata": {},
   "source": [
    "### Divide into x and y"
   ]
  },
  {
   "cell_type": "code",
   "execution_count": 17,
   "id": "e8677608",
   "metadata": {},
   "outputs": [],
   "source": [
    "x_orig = df[df.columns[:-1]]\n",
    "y_orig = df[\"Sales\"]"
   ]
  },
  {
   "cell_type": "markdown",
   "id": "7336bdd5",
   "metadata": {},
   "source": [
    "### Original form cost results and analyse "
   ]
  },
  {
   "cell_type": "code",
   "execution_count": 18,
   "id": "17159e84",
   "metadata": {},
   "outputs": [
    {
     "data": {
      "text/plain": [
       "7509.588363617978"
      ]
     },
     "execution_count": 18,
     "metadata": {},
     "output_type": "execute_result"
    }
   ],
   "source": [
    "### using the calculated weights, get the prediction using the original x\n",
    "pred_y = predict(x_orig, act_weights[-1])\n",
    "cost = comp_cost(pred_y, y_orig)\n",
    "cost\n"
   ]
  },
  {
   "cell_type": "markdown",
   "id": "496ab16e",
   "metadata": {},
   "source": [
    "# Questions"
   ]
  },
  {
   "cell_type": "markdown",
   "id": "e269822a",
   "metadata": {},
   "source": [
    "1. What are the optimal weights found by your implemented gradient descent? Plug it into the linear model:\n",
    "        ℎ𝜃(𝑥) = 𝜃0 + 𝜃1𝑇𝑉 + 𝜃2𝑅𝑎𝑑𝑖𝑜 + 𝜃3𝑁𝑒𝑤𝑠𝑝𝑎𝑝𝑒𝑟\n",
    "   What are your interpretations regarding the formed linear model?"
   ]
  },
  {
   "cell_type": "markdown",
   "id": "203fc8fc",
   "metadata": {},
   "source": [
    "#### Answer:\n",
    "   We fit our model with initial weights of 0 and train it using gradient descent to get the theta values, whice are:"
   ]
  },
  {
   "cell_type": "code",
   "execution_count": 19,
   "id": "4247eea9",
   "metadata": {},
   "outputs": [
    {
     "data": {
      "text/plain": [
       "array([4.35589486e-04, 7.37383146e-01, 5.36307180e-01, 3.14254020e-03])"
      ]
     },
     "execution_count": 19,
     "metadata": {},
     "output_type": "execute_result"
    }
   ],
   "source": [
    "init_w = np.array([0.0, 0.0, 0.0, 0.0])\n",
    "train_costs, act_weights = grad_descent(x_train, y_train, 5000, init_w)\n",
    "act_weights[-1]"
   ]
  },
  {
   "cell_type": "markdown",
   "id": "e8728491",
   "metadata": {},
   "source": [
    "From the given array, we have 𝜃0 = 4.35589486e-04, 𝜃1 = 7.37383146e-01, 𝜃2=5.36307180e-01, 𝜃3=3.14254020e-03. \n",
    "\n",
    "Therefore, the linear model is:\n",
    "\n",
    "ℎ𝜃(𝑥) = 4.35589486e-04 + 7.37383146e-01 * 𝑇𝑉 + 5.36307180e-01 * 𝑅𝑎𝑑𝑖𝑜 + 3.14254020e-03 * 𝑁𝑒𝑤𝑠𝑝𝑎𝑝𝑒𝑟\n",
    "\n",
    "From the linear model, we can say that TV is the greatest predictor followed by Radio then Newspaper then the bias."
   ]
  },
  {
   "cell_type": "markdown",
   "id": "792abeeb",
   "metadata": {},
   "source": [
    "2. Provide a scatter plot of the y_hat(i) and y(i) for both the train and test set. Is there a trend? Provide an r2 score (also available in sklearn)."
   ]
  },
  {
   "cell_type": "code",
   "execution_count": 20,
   "id": "b948e4f0",
   "metadata": {},
   "outputs": [
    {
     "name": "stdout",
     "output_type": "stream",
     "text": [
      "r2 score using train set: 0.8936793584593189\n"
     ]
    },
    {
     "data": {
      "image/png": "[encoded data removed]",
      "text/plain": [
       "<Figure size 432x288 with 1 Axes>"
      ]
     },
     "metadata": {
      "needs_background": "light"
     },
     "output_type": "display_data"
    }
   ],
   "source": [
    "new_train_pred_y = predict(x_train, act_weights[-1])\n",
    "### Visualize the relationship using scatterplot\n",
    "plt.title(\"Scatterplot of Train Predicted Y and Actual Y\")\n",
    "plt.xlabel(\"Train predicted Y\")\n",
    "plt.ylabel(\"Actual Y\")\n",
    "sns.scatterplot(x=new_train_pred_y, y=y_train)\n",
    "train_r2 = r2_score(y_train, new_train_pred_y)\n",
    "print(\"r2 score using train set:\", train_r2)"
   ]
  },
  {
   "cell_type": "code",
   "execution_count": 21,
   "id": "d658b848",
   "metadata": {
    "scrolled": true
   },
   "outputs": [
    {
     "name": "stdout",
     "output_type": "stream",
     "text": [
      "r2 score using test set:  0.911027570209169\n"
     ]
    },
    {
     "data": {
      "image/png": "[encoded data removed]",
      "text/plain": [
       "<Figure size 432x288 with 1 Axes>"
      ]
     },
     "metadata": {
      "needs_background": "light"
     },
     "output_type": "display_data"
    }
   ],
   "source": [
    "new_test_pred_y = predict(x_test, act_weights[-1])\n",
    "\n",
    "###Scatter plot test set\n",
    "plt.title(\"Scatterplot of Test Predicted Y and Actual Y\")\n",
    "plt.xlabel(\"Test predicted Y\")\n",
    "plt.ylabel(\"Actual Y\")\n",
    "sns.scatterplot(x=new_test_pred_y, y=y_test)\n",
    "test_r2 = r2_score(y_test, new_test_pred_y)\n",
    "print(\"r2 score using test set: \", test_r2)"
   ]
  },
  {
   "cell_type": "markdown",
   "id": "ab513582",
   "metadata": {},
   "source": [
    "3. What happens to the error, r2, and cost as the number of iterations increase? Show your data and proof. You can alternatively plot your result data for visualization and check until 50000 iterations or more (actually)."
   ]
  },
  {
   "cell_type": "markdown",
   "id": "9081a895",
   "metadata": {},
   "source": [
    "#### Answer:\n",
    "The following line plot of the cost for 5000 iteration is seen below:"
   ]
  },
  {
   "cell_type": "code",
   "execution_count": 22,
   "id": "c086f42b",
   "metadata": {},
   "outputs": [
    {
     "data": {
      "image/png": "[encoded data removed]",
      "text/plain": [
       "<Figure size 432x288 with 1 Axes>"
      ]
     },
     "metadata": {
      "needs_background": "light"
     },
     "output_type": "display_data"
    }
   ],
   "source": [
    "plot_func(train_costs)"
   ]
  },
  {
   "cell_type": "markdown",
   "id": "ff1b00b8",
   "metadata": {},
   "source": [
    "Let us get the error, r2, and cost for iterations 500, 1000, and 5000"
   ]
  },
  {
   "cell_type": "markdown",
   "id": "b4a7a919",
   "metadata": {},
   "source": [
    "For 500 iterations, the cost, error, and r2 is:"
   ]
  },
  {
   "cell_type": "code",
   "execution_count": 23,
   "id": "76626bfe",
   "metadata": {},
   "outputs": [
    {
     "name": "stdout",
     "output_type": "stream",
     "text": [
      "Cost:  0.051185390643040306\n",
      "R2: 0.896415695070808\n",
      "MAE: 0.2413453935318983\n"
     ]
    }
   ],
   "source": [
    "pred_y_5h = predict(x, act_weights[499])\n",
    "r2_5h_score = r2_score(y, pred_y_5h)\n",
    "MAE_5h = mean_absolute_error(y, pred_y_5h)\n",
    "print(\"Cost: \", train_costs[499])\n",
    "print(\"R2:\", r2_5h_score)\n",
    "print(\"MAE:\", MAE_5h)"
   ]
  },
  {
   "cell_type": "markdown",
   "id": "f18bb51d",
   "metadata": {},
   "source": [
    "For 1000 iterations, the cost, error, and r2 is:"
   ]
  },
  {
   "cell_type": "code",
   "execution_count": 24,
   "id": "d53a0cff",
   "metadata": {},
   "outputs": [
    {
     "name": "stdout",
     "output_type": "stream",
     "text": [
      "Cost:  0.051079831065374885\n",
      "R2: 0.8969142691949463\n",
      "MAE: 0.2399596550148806\n"
     ]
    }
   ],
   "source": [
    "pred_y_1k = predict(x, act_weights[999])\n",
    "r2_1k_score = r2_score(y, pred_y_1k)\n",
    "MAE_1k = mean_absolute_error(y, pred_y_1k)\n",
    "print(\"Cost: \", train_costs[999])\n",
    "print(\"R2:\", r2_1k_score)\n",
    "print(\"MAE:\", MAE_1k)"
   ]
  },
  {
   "cell_type": "markdown",
   "id": "dbbba574",
   "metadata": {},
   "source": [
    "For 5000 iterations, the cost, error, and r2 is:"
   ]
  },
  {
   "cell_type": "code",
   "execution_count": 25,
   "id": "1ee7051d",
   "metadata": {},
   "outputs": [
    {
     "name": "stdout",
     "output_type": "stream",
     "text": [
      "Cost:  0.051079554729786925\n",
      "R2: 0.8969225203073511\n",
      "MAE: 0.23988863657724685\n"
     ]
    }
   ],
   "source": [
    "pred_y_5k = predict(x, act_weights[-1])\n",
    "r2_5k_score = r2_score(y, pred_y_5k)\n",
    "MAE_5k = mean_absolute_error(y, pred_y_5k)\n",
    "print(\"Cost: \", train_costs[-1])\n",
    "print(\"R2:\", r2_5k_score)\n",
    "print(\"MAE:\", MAE_5k)"
   ]
  },
  {
   "cell_type": "markdown",
   "id": "621e77c0",
   "metadata": {},
   "source": [
    "From the plot and the results of the cost, error, and r2 score of each iteration, we see that as the number of iteration increases the cost and mean absolute error is decreasing while r2 score is increasing. However, the decrease and increase of the different scores are in the decimal range which means that the changes are somewhat miniscule based on how much more iterations were done."
   ]
  },
  {
   "cell_type": "markdown",
   "id": "54b60aaf",
   "metadata": {},
   "source": [
    "4. Once you determine the optimal number of iterations, check the effect on the cost and error as you change the learning rate. The common learning rates in machine learning include 0.1, 0.01, 0.001, 0.0001, 0.2 but you have the option to include others. Visualize the cost function (vs the optimal number of iterations) of each learning rate in ONLY ONE PLOT. Provide your analysis."
   ]
  },
  {
   "cell_type": "code",
   "execution_count": 26,
   "id": "e924faff",
   "metadata": {},
   "outputs": [
    {
     "name": "stdout",
     "output_type": "stream",
     "text": [
      "We'll use 0.051 as the optimal cost since it where the cost is almost flat\n",
      "With this, the optimal iteration is 395 th iteration\n"
     ]
    }
   ],
   "source": [
    "print(\"We'll use 0.051 as the optimal cost since it where the cost is almost flat\")\n",
    "rounded_cost = np.round(train_costs, 3)\n",
    "opt_i = np.where(rounded_cost == 0.051)\n",
    "print(\"With this, the optimal iteration is\", opt_i[0][0], \"th iteration\")"
   ]
  },
  {
   "cell_type": "markdown",
   "id": "c8775c96",
   "metadata": {},
   "source": [
    "Using the optimal Iteration and setting the learning rate to 0.1, we have"
   ]
  },
  {
   "cell_type": "code",
   "execution_count": 27,
   "id": "5db2837c",
   "metadata": {
    "scrolled": true
   },
   "outputs": [
    {
     "name": "stdout",
     "output_type": "stream",
     "text": [
      "Alpha rate:  0.1\n",
      "Cost:  0.051079554729786925\n",
      "R2: 0.8969225203072294\n",
      "MAE: 0.2398886365786446\n",
      "Alpha rate:  0.01\n",
      "Cost:  0.051500250039664096\n",
      "R2: 0.8953717254069102\n",
      "MAE: 0.24272053055351145\n",
      "Alpha rate:  0.001\n",
      "Cost:  0.23622673852442644\n",
      "R2: 0.5060374784393623\n",
      "MAE: 0.563782776791368\n",
      "Alpha rate:  0.0001\n",
      "Cost:  0.44536428998765176\n",
      "R2: 0.07286799176886316\n",
      "MAE: 0.7890090157139464\n",
      "Alpha rate:  0.2\n",
      "Cost:  0.051079554729786925\n",
      "R2: 0.8969225203073514\n",
      "MAE: 0.239888636577241\n"
     ]
    }
   ],
   "source": [
    "alphas = [0.1, 0.01, 0.001, 0.0001, 0.2]\n",
    "cost_list = []\n",
    "for i in alphas:\n",
    "    print(\"Alpha rate: \", i)\n",
    "    train_costs, n_act_weights = grad_descent(x_train, y_train, opt_i[0][0], init_w,a=i)\n",
    "    cost_list.append(train_costs)\n",
    "    train_pred_y = predict(x_train, n_act_weights[-1])\n",
    "    cost = comp_cost(train_pred_y, y_train)\n",
    "    pred_y = predict(x, n_act_weights[-1])\n",
    "    r_squared = r2_score(y, pred_y)\n",
    "    MAE = mean_absolute_error(y, pred_y)\n",
    "    print(\"Cost: \", train_costs[-1])\n",
    "    print(\"R2:\", r_squared)\n",
    "    print(\"MAE:\", MAE)"
   ]
  },
  {
   "cell_type": "code",
   "execution_count": 28,
   "id": "56107c98",
   "metadata": {
    "scrolled": true
   },
   "outputs": [
    {
     "data": {
      "text/plain": [
       "<AxesSubplot:title={'center':'Cost of different learning rates'}, xlabel='No. of iterations', ylabel='Cost'>"
      ]
     },
     "execution_count": 28,
     "metadata": {},
     "output_type": "execute_result"
    },
    {
     "data": {
      "image/png": "[encoded data removed]",
      "text/plain": [
       "<Figure size 432x288 with 1 Axes>"
      ]
     },
     "metadata": {
      "needs_background": "light"
     },
     "output_type": "display_data"
    }
   ],
   "source": [
    "cost_df = pd.DataFrame(cost_list).T\n",
    "cost_df.columns= alphas\n",
    "plt.title(\"Cost of different learning rates\")\n",
    "plt.ylabel(\"Cost\")\n",
    "plt.xlabel(\"No. of iterations\")\n",
    "sns.lineplot(data=cost_df)"
   ]
  },
  {
   "cell_type": "markdown",
   "id": "1b9900a9",
   "metadata": {},
   "source": [
    "From the graph, it can be seen that 0.0001 takes on a linear form while the rest has a curved line form. It can be seen that 0.2 reaches the lowest cost the quickest while 0.0001 doesn't reach the lowest cost at the optimal number of iterations."
   ]
  },
  {
   "cell_type": "markdown",
   "id": "e009e29e",
   "metadata": {},
   "source": [
    "5. Is there a relationship on the learning rate and the number of iterations?"
   ]
  },
  {
   "cell_type": "markdown",
   "id": "e339316f",
   "metadata": {},
   "source": [
    "As was seen in the last graph, as the learning rate increases the number of iteration decreases to reach the optimal cost which means that their relationship is inversely proportional."
   ]
  },
  {
   "cell_type": "markdown",
   "id": "50e7adc4",
   "metadata": {},
   "source": [
    "6. Compare the results with the results of ordinary least squares function"
   ]
  },
  {
   "cell_type": "markdown",
   "id": "513f1f94",
   "metadata": {},
   "source": [
    "Build the linear regression model"
   ]
  },
  {
   "cell_type": "code",
   "execution_count": 29,
   "id": "069c14ca",
   "metadata": {},
   "outputs": [],
   "source": [
    "linreg = LinearRegression().fit(x_train, y_train)\n",
    "pred_y_lin = linreg.predict(x_test)"
   ]
  },
  {
   "cell_type": "code",
   "execution_count": 30,
   "id": "dd4c5ef9",
   "metadata": {},
   "outputs": [
    {
     "data": {
      "text/plain": [
       "array([ 0.44441111,  1.30168679,  1.43691235, -0.66730857,  1.55533551,\n",
       "       -0.19033088,  1.34451196, -1.25613029, -0.07239572,  0.21395403,\n",
       "       -0.9477649 , -1.4143734 ,  0.04187445, -0.9794427 , -0.82941714,\n",
       "       -0.35860114, -1.02352749,  0.43360346, -0.72253191,  0.92669059,\n",
       "        1.04134773, -0.18638735, -0.32341141,  1.3765889 , -1.1785509 ,\n",
       "       -1.57241482,  1.28461088, -0.38557956, -0.92832092, -1.05226106])"
      ]
     },
     "execution_count": 30,
     "metadata": {},
     "output_type": "execute_result"
    }
   ],
   "source": [
    "pred_y_lin"
   ]
  },
  {
   "cell_type": "markdown",
   "id": "781f1ffc",
   "metadata": {},
   "source": [
    "The created linear regression model has an r2 score of: "
   ]
  },
  {
   "cell_type": "code",
   "execution_count": 31,
   "id": "4db160c6",
   "metadata": {},
   "outputs": [
    {
     "name": "stdout",
     "output_type": "stream",
     "text": [
      "0.9110275702091714\n"
     ]
    }
   ],
   "source": [
    "print(linreg.score(x_test, y_test))"
   ]
  },
  {
   "cell_type": "code",
   "execution_count": 32,
   "id": "aca6080f",
   "metadata": {},
   "outputs": [
    {
     "name": "stdout",
     "output_type": "stream",
     "text": [
      "Using the optimal iteration's weights of our gradient descent to predict the results, we have\n"
     ]
    },
    {
     "data": {
      "text/plain": [
       "array([ 0.45632242,  1.28440583,  1.42255522, -0.6482762 ,  1.47624351,\n",
       "       -0.16993274,  1.30064552, -1.2352999 , -0.07222912,  0.21357984,\n",
       "       -0.96178875, -1.37293563,  0.1208764 , -0.98922631, -0.79911416,\n",
       "       -0.33197871, -0.9948767 ,  0.40902538, -0.70284619,  0.88597173,\n",
       "        1.06582203, -0.09822649, -0.35109566,  1.3892682 , -1.1769486 ,\n",
       "       -1.53434624,  1.2500434 , -0.39232188, -0.90517284, -1.0666816 ])"
      ]
     },
     "execution_count": 32,
     "metadata": {},
     "output_type": "execute_result"
    }
   ],
   "source": [
    "print(\"Using the optimal iteration's weights of our gradient descent to predict the results, we have\")\n",
    "opt_pred_y = predict(x_test, act_weights[394])\n",
    "opt_pred_y"
   ]
  },
  {
   "cell_type": "markdown",
   "id": "329d56e4",
   "metadata": {},
   "source": [
    "Which has an r2 score of:"
   ]
  },
  {
   "cell_type": "code",
   "execution_count": 33,
   "id": "9e487321",
   "metadata": {},
   "outputs": [],
   "source": [
    "r_squared = r2_score(y_test, opt_pred_y)"
   ]
  },
  {
   "cell_type": "code",
   "execution_count": 34,
   "id": "0a6b6978",
   "metadata": {},
   "outputs": [
    {
     "name": "stdout",
     "output_type": "stream",
     "text": [
      "0.906288920753653\n"
     ]
    }
   ],
   "source": [
    "print(r_squared)"
   ]
  },
  {
   "cell_type": "code",
   "execution_count": null,
   "id": "2d1992e6",
   "metadata": {},
   "outputs": [],
   "source": []
  }
 ],
 "metadata": {
  "kernelspec": {
   "display_name": "Python 3 (ipykernel)",
   "language": "python",
   "name": "python3"
  },
  "language_info": {
   "codemirror_mode": {
    "name": "ipython",
    "version": 3
   },
   "file_extension": ".py",
   "mimetype": "text/x-python",
   "name": "python",
   "nbconvert_exporter": "python",
   "pygments_lexer": "ipython3",
   "version": "3.9.12"
  }
 },
 "nbformat": 4,
 "nbformat_minor": 5
}
